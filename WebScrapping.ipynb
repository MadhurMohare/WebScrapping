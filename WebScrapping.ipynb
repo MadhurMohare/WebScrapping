{
  "nbformat": 4,
  "nbformat_minor": 0,
  "metadata": {
    "colab": {
      "provenance": [],
      "authorship_tag": "ABX9TyOzRHvlEG+DJRUfhMOhMkAn",
      "include_colab_link": true
    },
    "kernelspec": {
      "name": "python3",
      "display_name": "Python 3"
    },
    "language_info": {
      "name": "python"
    }
  },
  "cells": [
    {
      "cell_type": "markdown",
      "metadata": {
        "id": "view-in-github",
        "colab_type": "text"
      },
      "source": [
        "<a href=\"https://colab.research.google.com/github/MadhurMohare/WebScrapping/blob/main/WebScrapping.ipynb\" target=\"_parent\"><img src=\"https://colab.research.google.com/assets/colab-badge.svg\" alt=\"Open In Colab\"/></a>"
      ]
    },
    {
      "cell_type": "markdown",
      "source": [
        "Web Scrapping"
      ],
      "metadata": {
        "id": "Axsn6e-rziwx"
      }
    },
    {
      "cell_type": "code",
      "source": [
        "import requests\n",
        "from bs4 import BeautifulSoup\n",
        "\n",
        "def webScrapper(url, tag):\n",
        "  data = []\n",
        "  page = requests.get(url)\n",
        "  soup = BeautifulSoup(page.content, 'html.parser')\n",
        "  table = soup.find('table', {'class': tag})\n",
        "  rows = table.find_all('tr')[1:]\n",
        "  for row in rows:\n",
        "    cells = row.find_all(['th','td'])\n",
        "    if len(cells) < 6:\n",
        "        continue\n",
        "    rank = cells[0].get_text().strip()\n",
        "    name = cells[1].get_text().strip()\n",
        "    industry = cells[2].get_text().strip()\n",
        "    revenue = cells[3].get_text().strip()\n",
        "    growth = cells[4].get_text().strip()\n",
        "    headquarters = cells[5].get_text().strip()\n",
        "    data.append([rank, name, industry, revenue, growth, headquarters])\n",
        "  return data\n",
        ""
      ],
      "metadata": {
        "id": "rM9TLptuDcT3"
      },
      "execution_count": 4,
      "outputs": []
    },
    {
      "cell_type": "code",
      "source": [
        "print(webScrapper('https://en.wikipedia.org/wiki/List_of_largest_companies_by_revenue', 'wikitable sortable sticky-header-multi sort-under'))"
      ],
      "metadata": {
        "colab": {
          "base_uri": "https://localhost:8080/"
        },
        "id": "5Kq0YqrV2gq5",
        "outputId": "a6d115c2-c312-44e2-8c99-cf673f78f090"
      },
      "execution_count": 5,
      "outputs": [
        {
          "output_type": "stream",
          "name": "stdout",
          "text": [
            "[['1', 'Walmart', 'Retail', '$680,985', '$19,436', '2,100,000'], ['2', 'Amazon', 'Retail information technology', '$637,959', '$59,248', '1,556,000'], ['3', 'State Grid Corporation of China', 'Electricity', '$545,948', '$9,204', '1,361,423'], ['4', 'Saudi Aramco', 'Oil and gas', '$480,446', '$106,246', '73,311'], ['5', 'China Petrochemical Corporation', '$429,700', '$9,393', '513,434', 'China'], ['6', 'China National Petroleum Corporation', '$476,000', '$25,250', '1,026,301', ''], ['7', 'UnitedHealth Group', 'Healthcare', '$400,278', '$14,405', '400,000'], ['8', 'Apple', 'Information technology', '$391,035', '$93,736', '164,000'], ['9', 'Berkshire Hathaway', 'Financials', '$371,433', '$88,995', '392,400'], ['10', 'CVS Health', 'Healthcare', '$357,776', '$8,344', '259,500'], ['11', 'Alphabet', 'Information technology', '$350,018', '$100,118', '183,323'], ['12', 'Volkswagen Group', 'Automotive', '$348,408', '$17,945', '684,025'], ['13', 'ExxonMobil', 'Oil and gas', '$344,582', '$36,010', '61,500'], ['14', 'Vitol', 'Commodities', '$331,000', '$13,000', '1,560'], ['15', 'Shell', 'Oil and gas', '$323,183', '$19,359', '103,000'], ['16', 'China State Construction Engineering', 'Construction', '$320,431', '$4,272', '382,894'], ['17', 'Toyota', 'Automotive', '$312,018', '$34,214', '380,793'], ['18', 'McKesson', 'Healthcare', '$308,951', '$3,002', '48,000'], ['19', 'Cencora', 'Healthcare', '$262,173', '$1,745', '44,000'], ['20', 'Microsoft', 'Information technology', '$245,122', '$88,136', '228,000'], ['21', 'Trafigura', 'Commodities', '$244,280', '$7,393', '12,479'], ['22', 'Costco', 'Retail', '$242,290', '$6,292', '316,000'], ['23', 'JPMorgan Chase', 'Financials', '$239,425', '$49,552', '309,926'], ['24', 'Industrial and Commercial Bank of China', '$222,484', '$51,417', '419,252', 'China'], ['25', 'TotalEnergies', 'Oil and gas', '$218,945', '$21,384', '102,579'], ['26', 'Glencore', 'Commodities', '$217,829', '$4,280', '83,426'], ['27', 'BP', 'Oil and gas', '$213,032', '$15,239', '79,400'], ['28', 'Cardinal Health', 'Healthcare', '$205,012', '$261', '47,520'], ['29', 'Stellantis', 'Automotive', '$204,908', '$20,103', '258,275'], ['30', 'Chevron', 'Oil and gas', '$200,949', '$21,369', '45,600'], ['31', 'China Construction Bank', 'Financials', '$199,826', '$46,990', '376,871'], ['32', 'Samsung Electronics', 'Electronics', '$198,257', '$11,082', '267,860'], ['33', 'Foxconn', '$197,876', '$4,563', '621,393', 'Taiwan'], ['34', 'Cigna', 'Healthcare', '$195,265', '$5,164', '71,413'], ['35', 'Agricultural Bank of China', 'Financials', '$192,398', '$38,049', '451,003'], ['36', 'Schwarz Gruppe', 'Retail', '$180,576', '$16,988', '575,000'], ['37', 'China Railway Engineering Corporation', 'Construction', '$178,563', '$2,152', '314,149'], ['38', 'Cargill', 'Conglomerate', '$177,000', '$17,641', '160,000'], ['39', 'Ford Motor Company', 'Automotive', '$176,191', '$4,347', '177,000'], ['40', 'Bank of China', 'Financials', '$172,328', '$32,758', '306,931'], ['41', 'Bank of America', '$171,912', '$26,515', '212,985', 'United States'], ['42', 'General Motors', 'Automotive', '$171,842', '$10,127', '163,000'], ['43', 'Elevance Health', 'Healthcare', '$171,340', '$5,987', '104,900'], ['44', 'BMW Group', 'Automotive', '$168,103', '$12,205', '154,950'], ['45', 'Tata Group', 'Conglomerate', '$165,500', '$12,205', '1,028,000'], ['46', 'Mercedes-Benz Group', 'Automotive', '$165,638', '$15,417', '166,056'], ['47', 'China Railway Construction Corporation', 'Construction', '$160,847', '$1,701', '336,433'], ['48', 'Baowu', 'Steel', '$157,216', '$2,494', '258,697'], ['49', 'Citigroup', 'Financials', '$156,820', '$9,228', '237,925'], ['50', 'Enel', 'Energy', '$147,100', '$3,400', '61,060']]\n"
          ]
        }
      ]
    }
  ]
}